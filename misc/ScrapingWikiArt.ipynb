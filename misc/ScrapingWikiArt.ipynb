{
 "cells": [
  {
   "cell_type": "markdown",
   "metadata": {},
   "source": [
    "## Scraping WikiArt by Style, Movement, and Genre"
   ]
  },
  {
   "cell_type": "code",
   "execution_count": 1,
   "metadata": {},
   "outputs": [],
   "source": [
    "# import os\n",
    "# import bs4\n",
    "# import urllib\n",
    "# import urllib.request\n",
    "# from bs4 import BeautifulSoup\n",
    "# import itertools\n",
    "# from multiprocessing.dummy import Pool as ThreadPool\n",
    "# import multiprocessing"
   ]
  },
  {
   "cell_type": "code",
   "execution_count": 2,
   "metadata": {},
   "outputs": [],
   "source": [
    "from bs4 import BeautifulSoup\n",
    "import os\n",
    "import requests\n",
    "import re"
   ]
  },
  {
   "cell_type": "markdown",
   "metadata": {},
   "source": [
    "# Style"
   ]
  },
  {
   "cell_type": "code",
   "execution_count": 3,
   "metadata": {},
   "outputs": [],
   "source": [
    "def get_painting_links_by_style(style_name, max_paintings):\n",
    "    STYLE_URL = 'https://www.wikiart.org/en/paintings-by-style/{style}'.format(style=style_name)\n",
    "    style_page = requests.get(STYLE_URL)\n",
    "\n",
    "    # check for request error\n",
    "    try:\n",
    "        style_page.raise_for_status()\n",
    "    except requests.exceptions.HTTPError as e:\n",
    "        print(\"Error trying to retrieve {}\".format(style_page.url))\n",
    "        raise e\n",
    "\n",
    "    soup = BeautifulSoup(style_page.text, 'lxml')\n",
    "    links = soup.find('div',class_='artworks-by-dictionary').get('ng-init')[10:]\n",
    "    links = links.replace(\"'\", \"\\\"\")\n",
    "    links = links.replace(\"\\n\", \"\")\n",
    "    \n",
    "    paintings = re.findall(r\"\\\"paintingUrl\\\" \\: \\\"(/en/.*?)\\\", \\\"artistUrl\\\"\", links)\n",
    "    \n",
    "    if len(paintings) > max_paintings:\n",
    "        print(\"Style\", style_name + \":\", max_paintings, \"paintings found.\")\n",
    "        return paintings[:max_paintings], max_paintings\n",
    "    else:\n",
    "        print(\"Style\", style_name + \":\", len(paintings), \"paintings found.\")\n",
    "        return paintings, len(paintings)"
   ]
  },
  {
   "cell_type": "markdown",
   "metadata": {},
   "source": [
    "# Movement"
   ]
  },
  {
   "cell_type": "code",
   "execution_count": 4,
   "metadata": {},
   "outputs": [],
   "source": [
    "def get_artist_links_by_movement(movement_name, max_paintings):\n",
    "    MOVEMENT_URL = 'https://www.wikiart.org/en/artists-by-art-movement/{movement}/text-list'.format(movement=movement_name)\n",
    "    movement_page = requests.get(MOVEMENT_URL)\n",
    "\n",
    "    # check for request error\n",
    "    try:\n",
    "        movement_page.raise_for_status()\n",
    "    except requests.exceptions.HTTPError as e:\n",
    "        print(\"Error trying to retrieve {}\".format(movement_page.url))\n",
    "        raise e\n",
    "\n",
    "    soup = BeautifulSoup(movement_page.text, 'lxml')\n",
    "    artists = []\n",
    "    total_paintings = 0\n",
    "    for artist in soup.find(\"div\", class_=\"masonry-text-view masonry-text-view-all\").find_all('li'):\n",
    "        works = [info.text[2:-9] for info in artist.find_all('span') if 'artwork' in info.text]\n",
    "        num_paintings = int(works[0])\n",
    "        if (total_paintings + num_paintings > max_paintings):\n",
    "            break;\n",
    "        else:\n",
    "            artists.append(artist.find('a').get('href'))\n",
    "            total_paintings += num_paintings\n",
    "    print(movement_name + \":\", len(artists), \"artists and\", total_paintings, \"paintings found.\")\n",
    "    return artists, total_paintings"
   ]
  },
  {
   "cell_type": "code",
   "execution_count": 5,
   "metadata": {},
   "outputs": [],
   "source": [
    "def get_painting_links(artist_link):\n",
    "    ARTIST_URL = \"https://www.wikiart.org{artist_link}/all-works/text-list\".format(artist_link=artist_link)\n",
    "    artist_page = requests.get(ARTIST_URL)\n",
    "    \n",
    "    # check for request error\n",
    "    try:\n",
    "        artist_page.raise_for_status()\n",
    "    except requests.exceptions.HTTPError as e:\n",
    "        print(\"Error trying to retrieve {}\".format(artist_page.url))\n",
    "        raise e\n",
    "        \n",
    "    soup = BeautifulSoup(artist_page.text, 'lxml')\n",
    "    \n",
    "    painting_paths = []\n",
    "    # retreive all rows in painting-list\n",
    "    for li in soup.find_all('li', {'class': 'painting-list-text-row'}):\n",
    "\n",
    "        # retrieve all links in the current row\n",
    "        for link in li.find_all('a'):\n",
    "            href = link.get('href')\n",
    "            # store in dictionary\n",
    "            painting_paths.append(href)\n",
    "            \n",
    "    print(len(painting_paths), \"images found for\", artist_link)\n",
    "    return painting_paths"
   ]
  },
  {
   "cell_type": "code",
   "execution_count": 6,
   "metadata": {},
   "outputs": [],
   "source": [
    "def save_painting(directory, painting_link):\n",
    "    if not os.path.exists(directory):\n",
    "        os.makedirs(directory)\n",
    "    PAINTING_URL = 'https://www.wikiart.org{painting_path}'.format(painting_path=painting_link)\n",
    "    r_painting_page = requests.get(PAINTING_URL)\n",
    "    soup = BeautifulSoup(r_painting_page.text, 'lxml')\n",
    "    for img in soup.find_all('img', {'class': 'ms-zoom-cursor'}):\n",
    "        img_url = img['src']\n",
    "        img_url = img_url.split('!')[0]\n",
    "        filename = img_url.split('/')[-1]\n",
    "\n",
    "        outfile = os.path.join(directory, filename)                       \n",
    "        if not os.path.exists(outfile):                        \n",
    "#             print(\"Saving: {} in {}\".format(filename, directory))\n",
    "            r = requests.get(img_url, outfile)\n",
    "            with open(outfile, 'wb') as f:\n",
    "                f.write(r.content)\n",
    "        else:\n",
    "#             print(\"Skipping existing file: {}\".format(filename))\n",
    "            continue"
   ]
  },
  {
   "cell_type": "code",
   "execution_count": 7,
   "metadata": {},
   "outputs": [],
   "source": [
    "def save_movements(movements, data_directory):\n",
    "    for movement, num in movements:\n",
    "        movement_directory = os.path.join(data_directory, movement)\n",
    "        artists, total_paintings = get_artist_links_by_movement(movement, num)\n",
    "        if not artists:\n",
    "            print(\"No artists found.\")\n",
    "            return\n",
    "        for a in artists:\n",
    "            paintings = get_painting_links(a)\n",
    "            if not paintings:\n",
    "                print(\"No paintings found.\")\n",
    "                return\n",
    "            print(\"Saving...\")\n",
    "            for p in paintings:\n",
    "                save_painting(movement_directory, p)\n",
    "        print(\"Finished saving\", total_paintings, movement, \"paintings.\")\n",
    "    print(\"Finished saving all paintings.\")"
   ]
  },
  {
   "cell_type": "code",
   "execution_count": 15,
   "metadata": {},
   "outputs": [],
   "source": [
    "def save_styles(styles, data_directory):\n",
    "    \"\"\"\n",
    "    Saves paintings by style.\n",
    "    Currently can only save max 60 featured paintings per style due to the website.\n",
    "    TODO: load all paintings before saving\n",
    "    \n",
    "    @param styles a list of tuple pairs of style and maximum number of paintings of that style\n",
    "    @param data_directory a directory in which to save each folder of style paintings in data_directory/style\n",
    "    \"\"\"\n",
    "    for style, num in styles:\n",
    "        style_directory = os.path.join(data_directory, style)\n",
    "        paintings, total_paintings = get_painting_links_by_style(style, num)\n",
    "        if not paintings:\n",
    "            print(\"No paintings found.\")\n",
    "            return\n",
    "        print(\"Saving...\")\n",
    "        for p in paintings:\n",
    "            save_painting(style_directory, p)\n",
    "        print(\"Finished saving\", total_paintings, style, \"paintings.\")\n",
    "    print(\"Finished saving all paintings.\")"
   ]
  },
  {
   "cell_type": "code",
   "execution_count": 12,
   "metadata": {
    "scrolled": true
   },
   "outputs": [],
   "source": [
    "def main(query, data_directory, by_movement = True):\n",
    "    if not os.path.exists(data_directory):\n",
    "        os.makedirs(data_directory)\n",
    "    if by_movement:\n",
    "        save_movements(query, data_directory)\n",
    "    else:\n",
    "        save_styles(query, data_directory)"
   ]
  },
  {
   "cell_type": "code",
   "execution_count": 13,
   "metadata": {},
   "outputs": [
    {
     "name": "stdout",
     "output_type": "stream",
     "text": [
      "impressionism: 1 artists and 26 paintings found.\n",
      "26 images found for /en/jules-dupre\n",
      "Saving...\n",
      "Finished saving 26 impressionism paintings.\n",
      "Finished saving all paintings.\n"
     ]
    }
   ],
   "source": [
    "movements = [('impressionism', 40)]\n",
    "DATA_DIR = \"../data\"\n",
    "main(movements, DATA_DIR, True)"
   ]
  },
  {
   "cell_type": "code",
   "execution_count": 16,
   "metadata": {},
   "outputs": [
    {
     "name": "stdout",
     "output_type": "stream",
     "text": [
      "Style expressionism: 40 paintings found.\n",
      "Saving...\n",
      "Finished saving 40 expressionism paintings.\n",
      "Finished saving all paintings.\n"
     ]
    }
   ],
   "source": [
    "styles = [('expressionism', 40)]\n",
    "DATA_DIR = \"../data\"\n",
    "main(styles, DATA_DIR, False)"
   ]
  },
  {
   "cell_type": "code",
   "execution_count": null,
   "metadata": {},
   "outputs": [],
   "source": []
  },
  {
   "cell_type": "code",
   "execution_count": null,
   "metadata": {},
   "outputs": [],
   "source": [
    "# Access the html of the page given a genre and pagenumber that are used to generate a url, \n",
    "# from this html find the urls of all images hosted on the page using page layout as of June 2017, \n",
    "# return a list of alls urls to paintings\n",
    "def soupit(j, movement):\n",
    "    try:\n",
    "        url = \"https://www.wikiart.org/en/artists-by-art-movement/\" + movement + \"/\" + str(j)\n",
    "        html = urllib.request.urlopen(url)\n",
    "        soup =  BeautifulSoup(html)\n",
    "        found = False\n",
    "        urls = []\n",
    "        for i in str(soup.findAll()).split():\n",
    "            found = i == 'data'\n",
    "            if found:\n",
    "                if '}];' in i:\n",
    "                    break\n",
    "                if 'https' in i:\n",
    "                    web = \"http\" + i[6:-2]\n",
    "                    urls.append(web)\n",
    "                    j = j+1\n",
    "        return urls\n",
    "    except Exception as e:\n",
    "        print('Failed to find the following movment page combo: ' + movement + str(j), str(e))"
   ]
  },
  {
   "cell_type": "code",
   "execution_count": null,
   "metadata": {},
   "outputs": [],
   "source": [
    "#Given a url for an image, we download and save the image while also recovering information about the painting in the saved name depending on the length of the file.split('/') information (which corresponds to how much information is available)\n",
    "def dwnld(web,genre):\n",
    "    i,file = web\n",
    "    name = file.split('/')\n",
    "    savename = ''\n",
    "    if len(name) == 6:\n",
    "        savename = genre+\"/\"+ name[4] + \"+\" + name[5].split('.')[0] +\".jpg\"\n",
    "    if len(name) == 5:\n",
    "        savename = genre+\"/\"+name[4].split('.')[0]+\".jpg\"\n",
    "    if len(name) == 7:\n",
    "        savename = genre+\"/\"+ name[5] + \"+\" + name[6].split('.')[0] +\".jpg\"\n",
    "        \n",
    "    print(genre + str(i))\n",
    "    #If we get an exception in this operation it is probably because there was a nonstandard unicode character in the name of the painting, do some fancy magic to fix this in the exception handling code\n",
    "    try:\n",
    "        urllib.request.urlretrieve(file,savename)\n",
    "    except Exception:\n",
    "        ofile = file\n",
    "        file = urllib.parse.urlsplit(file)\n",
    "        file = list(file)\n",
    "        file[2] = urllib.parse.quote(file[2])\n",
    "        file = urllib.parse.urlunsplit(file)\n",
    "        try:\n",
    "            urllib.request.urlretrieve(file,savename)\n",
    "            print('Suceeded on second try for '+ file)\n",
    "        except Exception:\n",
    "            print('We failed on the second try for ' + file)"
   ]
  },
  {
   "cell_type": "code",
   "execution_count": null,
   "metadata": {},
   "outputs": [],
   "source": [
    "#We can run both the url retrieving code and the image downloading code in parallel, and we set up the logic for that here\n",
    "def for_genre(genre,num):\n",
    "    pool = ThreadPool(multiprocessing.cpu_count()-1)\n",
    "    nums = list(range(1,num))\n",
    "    results = pool.starmap(soupit,zip(nums,itertools.repeat(genre)))\n",
    "    pool.close()\n",
    "    pool.join()\n",
    "    \n",
    "    #build up the list of urls with the results of all the sub-processes that succeeded in a single list\n",
    "    new_results = []\n",
    "    for j in results:\n",
    "        if j:\n",
    "            for i in j:\n",
    "                new_results.append(i)\n",
    "    \n",
    "    pool = ThreadPool(multiprocessing.cpu_count()-1)\n",
    "    pool.starmap(dwnld,zip(enumerate(new_results),itertools.repeat(genre)))\n",
    "    pool.close\n",
    "    pool.close()"
   ]
  },
  {
   "cell_type": "code",
   "execution_count": 1,
   "metadata": {},
   "outputs": [
    {
     "ename": "NameError",
     "evalue": "name 'genres' is not defined",
     "output_type": "error",
     "traceback": [
      "\u001b[1;31m---------------------------------------------------------------------------\u001b[0m",
      "\u001b[1;31mNameError\u001b[0m                                 Traceback (most recent call last)",
      "\u001b[1;32m<ipython-input-1-bec0959e312c>\u001b[0m in \u001b[0;36m<module>\u001b[1;34m\u001b[0m\n\u001b[1;32m----> 1\u001b[1;33m \u001b[1;32mfor\u001b[0m \u001b[1;33m(\u001b[0m\u001b[0ma\u001b[0m\u001b[1;33m,\u001b[0m\u001b[0mb\u001b[0m\u001b[1;33m)\u001b[0m \u001b[1;32min\u001b[0m \u001b[0mgenres\u001b[0m\u001b[1;33m:\u001b[0m\u001b[1;33m\u001b[0m\u001b[1;33m\u001b[0m\u001b[0m\n\u001b[0m\u001b[0;32m      2\u001b[0m         \u001b[1;32mif\u001b[0m \u001b[1;32mnot\u001b[0m \u001b[0mos\u001b[0m\u001b[1;33m.\u001b[0m\u001b[0mpath\u001b[0m\u001b[1;33m.\u001b[0m\u001b[0mexists\u001b[0m\u001b[1;33m(\u001b[0m\u001b[1;34m\"./\"\u001b[0m\u001b[1;33m+\u001b[0m\u001b[0ma\u001b[0m\u001b[1;33m)\u001b[0m\u001b[1;33m:\u001b[0m\u001b[1;33m\u001b[0m\u001b[1;33m\u001b[0m\u001b[0m\n\u001b[0;32m      3\u001b[0m             \u001b[0mos\u001b[0m\u001b[1;33m.\u001b[0m\u001b[0mmkdir\u001b[0m\u001b[1;33m(\u001b[0m\u001b[0ma\u001b[0m\u001b[1;33m)\u001b[0m\u001b[1;33m\u001b[0m\u001b[1;33m\u001b[0m\u001b[0m\n\u001b[0;32m      4\u001b[0m         \u001b[0mfor_genre\u001b[0m\u001b[1;33m(\u001b[0m\u001b[0ma\u001b[0m\u001b[1;33m,\u001b[0m\u001b[0mb\u001b[0m\u001b[1;33m)\u001b[0m\u001b[1;33m\u001b[0m\u001b[1;33m\u001b[0m\u001b[0m\n",
      "\u001b[1;31mNameError\u001b[0m: name 'genres' is not defined"
     ]
    }
   ],
   "source": [
    "# A list of movements hosted on wikiart.org as well as the number of pages to pull images from, \n",
    "# numbers were set from manual inspection and are only approximations of how many pages each genre contains\n",
    "genres = [('portrait',250),\n",
    "        ('landscape',250),\n",
    "        ('genre-painting',250),\n",
    "        ('abstract',250),\n",
    "        ('religious-painting',140),\n",
    "        ('cityscape',110),\n",
    "        ('figurative',75),\n",
    "        ('still-life',50),\n",
    "        ('symbolic-painting',50),\n",
    "        ('nude-painting-nu',50),\n",
    "        ('mythological-painting',35),\n",
    "        ('marina',30),\n",
    "        ('flower-painting',30),\n",
    "        ('animal-painting',30)]\n",
    "\n",
    "for (a,b) in genres:\n",
    "        if not os.path.exists(\"./\"+a):\n",
    "            os.mkdir(a)\n",
    "        for_genre(a,b)"
   ]
  }
 ],
 "metadata": {
  "kernelspec": {
   "display_name": "Python 3",
   "language": "python",
   "name": "python3"
  },
  "language_info": {
   "codemirror_mode": {
    "name": "ipython",
    "version": 3
   },
   "file_extension": ".py",
   "mimetype": "text/x-python",
   "name": "python",
   "nbconvert_exporter": "python",
   "pygments_lexer": "ipython3",
   "version": "3.7.7"
  }
 },
 "nbformat": 4,
 "nbformat_minor": 4
}
